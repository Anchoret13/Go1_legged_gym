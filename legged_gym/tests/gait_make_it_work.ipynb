{
 "cells": [
  {
   "cell_type": "code",
   "execution_count": 2,
   "metadata": {},
   "outputs": [],
   "source": [
    "import numpy as np\n",
    "import matplotlib.pyplot as plt\n",
    "import scipy.stats as stats\n",
    "import torch"
   ]
  },
  {
   "cell_type": "code",
   "execution_count": 2,
   "metadata": {},
   "outputs": [],
   "source": [
    "time_t = []\n",
    "desired_FL = []\n",
    "desired_FR = []\n",
    "desired_RL = []\n",
    "desired_RR = []\n",
    "t = 0\n",
    "\n",
    "gait_indices = 0\n",
    "frequencies = 3.\n",
    "phase = 0.5\n",
    "offsets = 0\n",
    "bounds = 0\n",
    "durations = 0.5\n",
    "kappa = 0.05\n",
    "dt = 0.002\n",
    "smoothing_cdf_start = torch.distributions.normal.Normal(0,kappa).cdf\n",
    "gait_indices = torch.zeros(1, dtype = torch.float, device = 'cpu', requires_grad= False)\n",
    "\n",
    "\n",
    "\n",
    "for i in range(500):\n",
    "    t += dt\n",
    "    time_t.append(t)\n",
    "    gait_indices = torch.remainder(gait_indices + dt * frequencies, 1.0)\n",
    "    foot_indices = [gait_indices,\n",
    "                    torch.remainder(gait_indices + phase, 1.0),\n",
    "                    torch.remainder(gait_indices + phase, 1.0),\n",
    "                    gait_indices]\n",
    "    \n",
    "    RL = (smoothing_cdf_start(torch.remainder(foot_indices[2], 1.0)) * (\n",
    "                    1 - smoothing_cdf_start(torch.remainder(foot_indices[2], 1.0) - 0.5)) +\n",
    "                                       smoothing_cdf_start(torch.remainder(foot_indices[2], 1.0) - 1) * (\n",
    "                                               1 - smoothing_cdf_start(\n",
    "                                           torch.remainder(foot_indices[2], 1.0) - 0.5 - 1)))\n",
    "    RR = (smoothing_cdf_start(torch.remainder(foot_indices[3], 1.0)) * (\n",
    "                    1 - smoothing_cdf_start(torch.remainder(foot_indices[3], 1.0) - 0.5)) +\n",
    "                                       smoothing_cdf_start(torch.remainder(foot_indices[3], 1.0) - 1) * (\n",
    "                                               1 - smoothing_cdf_start(\n",
    "                                           torch.remainder(foot_indices[3], 1.0) - 0.5 - 1)))\n",
    "    desired_FL.append(1.)\n",
    "    desired_FR.append(1.)\n",
    "    desired_RL.append(RL)\n",
    "    desired_RR.append(RR)\n",
    "\n",
    "desired_FL = torch.tensor(desired_FL).squeeze()\n",
    "desired_FR = torch.tensor(desired_FR).squeeze()\n",
    "desired_RL = torch.tensor(desired_RL).squeeze()\n",
    "desired_RR = torch.tensor(desired_RR).squeeze()\n"
   ]
  },
  {
   "cell_type": "code",
   "execution_count": null,
   "metadata": {},
   "outputs": [],
   "source": [
    "fig, axs = plt.subplots(4, 1, figsize=(12, 8), sharex=True)\n",
    "\n",
    "axs[0].plot(time_t, desired_FL, 'g-', label=\"FL\")\n",
    "axs[0].set_title(\"Front Left Foot (FL)\")\n",
    "axs[0].legend()\n",
    "\n",
    "axs[1].plot(time_t, desired_FR, 'b-', label=\"FR\")\n",
    "axs[1].set_title(\"Front Right Foot (FR)\")\n",
    "axs[1].legend()\n",
    "\n",
    "axs[2].plot(time_t, desired_RL, 'r-', label=\"RL\")\n",
    "axs[2].set_title(\"Rear Left Foot (RL)\")\n",
    "axs[2].legend()\n",
    "\n",
    "axs[3].plot(time_t, desired_RR, 'k-', label=\"RR\")\n",
    "axs[3].set_title(\"Rear Right Foot (RR)\")\n",
    "axs[3].legend()\n",
    "\n",
    "for ax in axs:\n",
    "    ax.set_ylabel(\"Contact Signal\")\n",
    "    ax.grid(True)\n",
    "axs[-1].set_xlabel(\"Time (s)\")\n",
    "\n",
    "plt.tight_layout()\n",
    "plt.show()\n"
   ]
  },
  {
   "cell_type": "code",
   "execution_count": null,
   "metadata": {},
   "outputs": [],
   "source": [
    "time_t = []\n",
    "desired_FL = []\n",
    "desired_FR = []\n",
    "desired_RL = []\n",
    "desired_RR = []\n",
    "t = 0\n",
    "\n",
    "gait_indices = 0\n",
    "frequencies = 3.\n",
    "phase = 0.5\n",
    "offsets = 0\n",
    "bounds = 0\n",
    "durations = 0.5\n",
    "kappa = 0.05\n",
    "dt = 0.002\n",
    "smoothing_cdf_start = torch.distributions.normal.Normal(0,kappa).cdf\n",
    "gait_indices = torch.zeros(1, dtype = torch.float, device = 'cpu', requires_grad= False)\n",
    "\n",
    "\n",
    "\n",
    "for i in range(500):\n",
    "    t += dt\n",
    "    time_t.append(t)\n",
    "    gait_indices = torch.remainder(gait_indices + dt * frequencies, 1.0)\n",
    "    foot_indices = [gait_indices,\n",
    "                    torch.remainder(gait_indices + phase, 1.0),\n",
    "                    torch.remainder(gait_indices + phase, 1.0),\n",
    "                    gait_indices]\n",
    "    \n",
    "    FL = (smoothing_cdf_start(torch.remainder(foot_indices[0], 1.0)) * (\n",
    "                    1 - smoothing_cdf_start(torch.remainder(foot_indices[0], 1.0) - 0.5)) +\n",
    "                                       smoothing_cdf_start(torch.remainder(foot_indices[0], 1.0) - 1) * (\n",
    "                                               1 - smoothing_cdf_start(\n",
    "                                           torch.remainder(foot_indices[0], 1.0) - 0.5 - 1)))\n",
    "\n",
    "    FR = (smoothing_cdf_start(torch.remainder(foot_indices[1], 1.0)) * (\n",
    "                    1 - smoothing_cdf_start(torch.remainder(foot_indices[1], 1.0) - 0.5)) +\n",
    "                                       smoothing_cdf_start(torch.remainder(foot_indices[1], 1.0) - 1) * (\n",
    "                                               1 - smoothing_cdf_start(\n",
    "                                           torch.remainder(foot_indices[1], 1.0) - 0.5 - 1)))\n",
    "    \n",
    "    RL = (smoothing_cdf_start(torch.remainder(foot_indices[2], 1.0)) * (\n",
    "                    1 - smoothing_cdf_start(torch.remainder(foot_indices[2], 1.0) - 0.5)) +\n",
    "                                       smoothing_cdf_start(torch.remainder(foot_indices[2], 1.0) - 1) * (\n",
    "                                               1 - smoothing_cdf_start(\n",
    "                                           torch.remainder(foot_indices[2], 1.0) - 0.5 - 1)))\n",
    "    RR = (smoothing_cdf_start(torch.remainder(foot_indices[3], 1.0)) * (\n",
    "                    1 - smoothing_cdf_start(torch.remainder(foot_indices[3], 1.0) - 0.5)) +\n",
    "                                       smoothing_cdf_start(torch.remainder(foot_indices[3], 1.0) - 1) * (\n",
    "                                               1 - smoothing_cdf_start(\n",
    "                                           torch.remainder(foot_indices[3], 1.0) - 0.5 - 1)))\n",
    "    desired_FL.append(FL)\n",
    "    desired_FR.append(FR)\n",
    "    desired_RL.append(RL)\n",
    "    desired_RR.append(RR)\n",
    "\n",
    "desired_FL = torch.tensor(desired_FL).squeeze()\n",
    "desired_FR = torch.tensor(desired_FR).squeeze()\n",
    "desired_RL = torch.tensor(desired_RL).squeeze()\n",
    "desired_RR = torch.tensor(desired_RR).squeeze()"
   ]
  },
  {
   "cell_type": "code",
   "execution_count": null,
   "metadata": {},
   "outputs": [],
   "source": [
    "fig, axs = plt.subplots(4, 1, figsize=(12, 8), sharex=True)\n",
    "\n",
    "axs[0].plot(time_t, desired_FL, 'g-', label=\"FL\")\n",
    "axs[0].set_title(\"Front Left Foot (FL)\")\n",
    "axs[0].legend()\n",
    "\n",
    "axs[1].plot(time_t, desired_FR, 'b-', label=\"FR\")\n",
    "axs[1].set_title(\"Front Right Foot (FR)\")\n",
    "axs[1].legend()\n",
    "\n",
    "axs[2].plot(time_t, desired_RL, 'r-', label=\"RL\")\n",
    "axs[2].set_title(\"Rear Left Foot (RL)\")\n",
    "axs[2].legend()\n",
    "\n",
    "axs[3].plot(time_t, desired_RR, 'k-', label=\"RR\")\n",
    "axs[3].set_title(\"Rear Right Foot (RR)\")\n",
    "axs[3].legend()\n",
    "\n",
    "for ax in axs:\n",
    "    ax.set_ylabel(\"Contact Signal\")\n",
    "    ax.grid(True)\n",
    "axs[-1].set_xlabel(\"Time (s)\")\n",
    "\n",
    "plt.tight_layout()\n",
    "plt.show()"
   ]
  },
  {
   "cell_type": "code",
   "execution_count": null,
   "metadata": {},
   "outputs": [],
   "source": [
    "def sigmoid(x, k):\n",
    "    return 1 / (1 + torch.exp(-k * (x - 0.5)))"
   ]
  },
  {
   "cell_type": "code",
   "execution_count": 3,
   "metadata": {},
   "outputs": [],
   "source": [
    "# THIS IS THE FINAL VERSION OF SAMPLING\n",
    "\n",
    "def sigmoid(x, k, lower, upper):\n",
    "    # Scale and shift x to have the sigmoid's midpoint at the center of the range [a, b]\n",
    "    # and adjust steepness with k\n",
    "    midpoint = (lower + upper) / 2.0\n",
    "    scale = k / (upper - lower)\n",
    "    return 1 / (1 + torch.exp(-scale * (x - midpoint)))\n",
    "\n",
    "def sample_sigmoid_range_torch(a, b, n_samples=1000, k=10):\n",
    "\n",
    "    values = torch.linspace(a, b, n_samples)\n",
    "    probs = sigmoid(values, k=k, a=a, b=b)\n",
    "    probs /= probs.sum()\n",
    "    \n",
    "    sampled_index = torch.multinomial(probs, num_samples=1)\n",
    "    sampled_value = values[sampled_index]\n",
    "    \n",
    "    return sampled_value.item()\n"
   ]
  },
  {
   "cell_type": "code",
   "execution_count": 1,
   "metadata": {},
   "outputs": [],
   "source": [
    "import numpy as np\n",
    "import matplotlib.pyplot as plt\n",
    "import torch\n",
    "\n",
    "def sigmoid(x, k, lower, upper):\n",
    "    midpoint = (lower + upper) / 2.0\n",
    "    scale = k / (upper - lower)\n",
    "    return 1 / (1 + np.exp(-scale * (x - midpoint)))\n",
    "\n",
    "def visualize_sigmoid_sampling(a, b, n_samples=1000, k = 1):\n",
    "\n",
    "    values = np.linspace(a, b, n_samples)\n",
    "\n",
    "    probs = sigmoid(values, k, a, b)\n",
    "    probs /= probs.sum()\n",
    "    \n",
    "    # Plotting\n",
    "    plt.figure(figsize=(10, 6))\n",
    "    plt.plot(values, probs, label='Sigmoid-based Probabilities')\n",
    "    plt.fill_between(values, probs, alpha=0.4)\n",
    "    plt.title('Sampling Probabilities Following a Sigmoid Distribution')\n",
    "    plt.xlabel('Value')\n",
    "    plt.ylabel('Probability')\n",
    "    plt.legend()\n",
    "    plt.grid(True)\n",
    "    plt.show()\n",
    "    \n"
   ]
  },
  {
   "cell_type": "code",
   "execution_count": 7,
   "metadata": {},
   "outputs": [
    {
     "data": {
      "image/png": "[encoded data removed]",
      "text/plain": [
       "<Figure size 1000x600 with 1 Axes>"
      ]
     },
     "metadata": {},
     "output_type": "display_data"
    }
   ],
   "source": [
    "visualize_sigmoid_sampling(1, 5, k = 1)"
   ]
  },
  {
   "cell_type": "code",
   "execution_count": 5,
   "metadata": {},
   "outputs": [],
   "source": [
    "def sigmoid(x, k, lower, upper):\n",
    "    midpoint = (lower + upper) / 2.0\n",
    "    scale = k / (upper - lower)\n",
    "    return 1 / (1 + torch.exp(-scale * (x - midpoint)))\n",
    "def adaptive_sample_vel_cmd(min_vel, max_vel, current_step, env_ids, device, total_iterations = 10000, n_samples = 1000, steps_per_iteration = 24):\n",
    "    #  NOTE: STUPID HARD CODING Method\n",
    "    # compute k with total_iteration, k_range\n",
    "    # num_steps_per_env = 24, so consider 24 steps as one iteration.\n",
    "    if len(env_ids) == 0:\n",
    "        env_ids = torch.tensor([0])\n",
    "    current_iteration = current_step // steps_per_iteration\n",
    "    k_min = -10\n",
    "    k_max = 3\n",
    "    k = k_min + (current_iteration * (k_max - k_min) /  total_iterations)\n",
    "    values = torch.linspace(min_vel, max_vel, n_samples)\n",
    "    probs = sigmoid(values, k, min_vel, max_vel)\n",
    "    probs /= probs.sum()\n",
    "    sampled_indices = torch.multinomial(probs, num_samples=len(env_ids), replacement=True)\n",
    "    sampled_velocities = values[sampled_indices]\n",
    "    commands = torch.zeros_like(env_ids, dtype = torch.float, device = device)\n",
    "    for i, env_id in enumerate(env_ids):\n",
    "        commands[i] = sampled_velocities[i]\n",
    "    return commands\n"
   ]
  },
  {
   "cell_type": "code",
   "execution_count": 8,
   "metadata": {},
   "outputs": [
    {
     "data": {
      "text/plain": [
       "tensor([2.3854, 2.6376])"
      ]
     },
     "execution_count": 8,
     "metadata": {},
     "output_type": "execute_result"
    }
   ],
   "source": [
    "adaptive_sample_vel_cmd(1, 5, 300, torch.tensor([1,3]), device = \"cpu\")"
   ]
  },
  {
   "cell_type": "code",
   "execution_count": null,
   "metadata": {},
   "outputs": [],
   "source": []
  }
 ],
 "metadata": {
  "kernelspec": {
   "display_name": "ZGMF-X10A",
   "language": "python",
   "name": "python3"
  },
  "language_info": {
   "codemirror_mode": {
    "name": "ipython",
    "version": 3
   },
   "file_extension": ".py",
   "mimetype": "text/x-python",
   "name": "python",
   "nbconvert_exporter": "python",
   "pygments_lexer": "ipython3",
   "version": "3.8.18"
  }
 },
 "nbformat": 4,
 "nbformat_minor": 2
}
