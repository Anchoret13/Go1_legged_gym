{
 "cells": [
  {
   "cell_type": "code",
   "execution_count": 2,
   "metadata": {},
   "outputs": [
    {
     "ename": "ImportError",
     "evalue": "cannot import name 'EventFileReader' from 'tensorboard_data_server' (/home/well/anaconda3/envs/ZGMF-X10A/lib/python3.8/site-packages/tensorboard_data_server/__init__.py)",
     "output_type": "error",
     "traceback": [
      "\u001b[0;31m---------------------------------------------------------------------------\u001b[0m",
      "\u001b[0;31mImportError\u001b[0m                               Traceback (most recent call last)",
      "Cell \u001b[0;32mIn[2], line 2\u001b[0m\n\u001b[1;32m      1\u001b[0m \u001b[38;5;28;01mimport\u001b[39;00m \u001b[38;5;21;01mos\u001b[39;00m\n\u001b[0;32m----> 2\u001b[0m \u001b[38;5;28;01mfrom\u001b[39;00m \u001b[38;5;21;01mtensorboard_data_server\u001b[39;00m \u001b[38;5;28;01mimport\u001b[39;00m EventFileReader, EventFileWriter\n\u001b[1;32m      3\u001b[0m logdir \u001b[38;5;241m=\u001b[39m \u001b[38;5;124m\"\u001b[39m\u001b[38;5;124m../logs/go1_legged/id_warmup_with_dummy\u001b[39m\u001b[38;5;124m\"\u001b[39m\n",
      "\u001b[0;31mImportError\u001b[0m: cannot import name 'EventFileReader' from 'tensorboard_data_server' (/home/well/anaconda3/envs/ZGMF-X10A/lib/python3.8/site-packages/tensorboard_data_server/__init__.py)"
     ]
    }
   ],
   "source": [
    "import os\n",
    "from tensorboard_data_server import EventFileReader, EventFileWriter\n",
    "log_dir = \"../logs/go1_legged/id_warmup_with_dummy\""
   ]
  },
  {
   "cell_type": "code",
   "execution_count": null,
   "metadata": {},
   "outputs": [],
   "source": [
    "def adjust_event_file(file_path, offset):\n",
    "    reader = EventFileReader(file_path)\n",
    "    new_file_path = file_path + '.new'\n",
    "    writer = EventFileWriter(new_file_path)\n",
    "\n",
    "    for event in reader.read_events():\n",
    "        if event.step >= offset:\n",
    "            event.step -= offset\n",
    "        writer.write_event(event)\n",
    "\n",
    "    writer.close()\n",
    "    reader.close()\n",
    "    return new_file_path\n",
    "\n",
    "def rewrite_event_files(log_dir, offset):\n",
    "    for file_name in os.listdir(log_dir):\n",
    "        if file_name.startswith(\"events.out.tfevents.\"):\n",
    "            file_path = os.path.join(log_dir, file_name)\n",
    "            new_file_path = adjust_event_file(file_path, offset)\n",
    "            os.replace(new_file_path, file_path)\n",
    "\n",
    "# Determine the offset to apply (e.g., the minimum step value in the logs)\n",
    "offset = 3000  # Replace with the correct offset (e.g., 3000 if starting from 3000)\n",
    "\n",
    "# Rewrite the event files with the adjusted step values\n",
    "rewrite_event_files(log_dir, offset)\n"
   ]
  }
 ],
 "metadata": {
  "kernelspec": {
   "display_name": "ZGMF-X10A",
   "language": "python",
   "name": "python3"
  },
  "language_info": {
   "codemirror_mode": {
    "name": "ipython",
    "version": 3
   },
   "file_extension": ".py",
   "mimetype": "text/x-python",
   "name": "python",
   "nbconvert_exporter": "python",
   "pygments_lexer": "ipython3",
   "version": "3.8.18"
  }
 },
 "nbformat": 4,
 "nbformat_minor": 2
}
