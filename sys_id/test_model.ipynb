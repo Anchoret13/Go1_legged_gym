{
 "cells": [
  {
   "cell_type": "code",
   "execution_count": 1,
   "metadata": {},
   "outputs": [],
   "source": [
    "import torch \n",
    "from torch.utils.data import DataLoader\n",
    "from torch.nn import MSELoss\n",
    "import numpy as np\n",
    "import pickle\n",
    "import math\n",
    "import time\n",
    "\n",
    "from sys_id.dataset import load_trajectory, WheeledTrajWindowed, PhysProps\n",
    "from model import GPT2\n"
   ]
  },
  {
   "cell_type": "code",
   "execution_count": 2,
   "metadata": {},
   "outputs": [],
   "source": [
    "eval_params = {\n",
    "        'checkpoint_path': './logs/2024-04-07_14-55-49/checkpoint_epoch_8500.pth', \n",
    "        'dataset_folder_path': '../dataset/eval_model/wheeled_flat', \n",
    "        'window_size': 10,\n",
    "        'batch_size': 1, \n",
    "    }\n",
    "\n",
    "model_params = {\n",
    "        \"n_layer\": 2,\n",
    "        \"n_head\": 3,\n",
    "        \"pdrop\": 0.1,\n",
    "        \"max_seq_length\": 1000,\n",
    "        'position_encoding': 'sine',\n",
    "        \"output_size\": 3,\n",
    "        \"input_size\": (42 + 12) * eval_params['window_size'], \n",
    "        \"hidden_size\": (42 + 12) * eval_params['window_size'], \n",
    "    }"
   ]
  },
  {
   "cell_type": "code",
   "execution_count": 3,
   "metadata": {},
   "outputs": [
    {
     "data": {
      "text/plain": [
       "<All keys matched successfully>"
      ]
     },
     "execution_count": 3,
     "metadata": {},
     "output_type": "execute_result"
    }
   ],
   "source": [
    "device = torch.device(\"cuda\" if torch.cuda.is_available() else \"cpu\")\n",
    "model = GPT2(**model_params).to(device)\n",
    "optimizer = torch.optim.Adam(model.parameters())\n",
    "checkpoint = torch.load(eval_params['checkpoint_path'], map_location=device)\n",
    "model.load_state_dict(checkpoint['state_dict'])"
   ]
  },
  {
   "cell_type": "code",
   "execution_count": 4,
   "metadata": {},
   "outputs": [
    {
     "name": "stdout",
     "output_type": "stream",
     "text": [
      "dict_keys(['obs', 'act', 'physprops'])\n"
     ]
    }
   ],
   "source": [
    "import pickle as pkl \n",
    "import os\n",
    "file_path = os.path.join(eval_params[\"dataset_folder_path\"], \"traj_0000.pkl\")\n",
    "with open(file_path, \"rb\") as file:\n",
    "    traj = pkl.load(file)\n",
    "\n",
    "print(traj.keys())"
   ]
  },
  {
   "cell_type": "code",
   "execution_count": 5,
   "metadata": {},
   "outputs": [
    {
     "name": "stdout",
     "output_type": "stream",
     "text": [
      "torch.Size([540])\n"
     ]
    }
   ],
   "source": [
    "obs_history = np.array(traj['obs'][:10]).flatten()\n",
    "action_history = np.array(traj['act'][:10]).flatten()\n",
    "tmp_history = np.concatenate([obs_history, action_history])\n",
    "history_input = torch.tensor(tmp_history, device = device, dtype=torch.float)\n",
    "print(history_input.shape)"
   ]
  },
  {
   "cell_type": "code",
   "execution_count": 6,
   "metadata": {},
   "outputs": [
    {
     "name": "stdout",
     "output_type": "stream",
     "text": [
      "torch.Size([3])\n"
     ]
    }
   ],
   "source": [
    "model.eval()\n",
    "estimation, _ = model(history_input, None)"
   ]
  },
  {
   "cell_type": "code",
   "execution_count": 7,
   "metadata": {},
   "outputs": [
    {
     "data": {
      "text/plain": [
       "torch.Size([540])"
      ]
     },
     "execution_count": 7,
     "metadata": {},
     "output_type": "execute_result"
    }
   ],
   "source": [
    "history_input.shape"
   ]
  },
  {
   "cell_type": "code",
   "execution_count": 8,
   "metadata": {},
   "outputs": [
    {
     "data": {
      "text/plain": [
       "torch.Size([3])"
      ]
     },
     "execution_count": 8,
     "metadata": {},
     "output_type": "execute_result"
    }
   ],
   "source": [
    "estimation.shape"
   ]
  },
  {
   "cell_type": "code",
   "execution_count": null,
   "metadata": {},
   "outputs": [],
   "source": []
  }
 ],
 "metadata": {
  "kernelspec": {
   "display_name": "Python 3",
   "language": "python",
   "name": "python3"
  },
  "language_info": {
   "codemirror_mode": {
    "name": "ipython",
    "version": 3
   },
   "file_extension": ".py",
   "mimetype": "text/x-python",
   "name": "python",
   "nbconvert_exporter": "python",
   "pygments_lexer": "ipython3",
   "version": "3.8.19"
  }
 },
 "nbformat": 4,
 "nbformat_minor": 2
}
