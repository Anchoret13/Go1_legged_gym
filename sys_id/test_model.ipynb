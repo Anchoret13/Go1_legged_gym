{
 "cells": [
  {
   "cell_type": "code",
   "execution_count": 1,
   "metadata": {},
   "outputs": [
    {
     "name": "stderr",
     "output_type": "stream",
     "text": [
      "/home/well/anaconda3/envs/ZGMF-X10A/lib/python3.8/site-packages/tqdm/auto.py:21: TqdmWarning: IProgress not found. Please update jupyter and ipywidgets. See https://ipywidgets.readthedocs.io/en/stable/user_install.html\n",
      "  from .autonotebook import tqdm as notebook_tqdm\n"
     ]
    }
   ],
   "source": [
    "import torch \n",
    "from torch.utils.data import DataLoader\n",
    "from torch.nn import MSELoss\n",
    "import numpy as np\n",
    "import pickle\n",
    "import math\n",
    "import time\n",
    "\n",
    "from sys_id.dataset import load_trajectory, WheeledTrajWindowed, PhysProps\n",
    "from model import GPT2\n"
   ]
  },
  {
   "cell_type": "code",
   "execution_count": 4,
   "metadata": {},
   "outputs": [],
   "source": [
    "eval_params = {\n",
    "        'checkpoint_path': './logs/2024-04-10_13-29-48/checkpoint_epoch_180.pth', \n",
    "        'dataset_folder_path': '../dataset/eval_model/wheeled_flat', \n",
    "        'window_size': 50,\n",
    "        'batch_size': 1, \n",
    "    }\n",
    "\n",
    "model_params = {\n",
    "        \"n_layer\": 2,\n",
    "        \"n_head\": 3,\n",
    "        \"pdrop\": 0.1,\n",
    "        \"max_seq_length\": 1000,\n",
    "        'position_encoding': 'sine',\n",
    "        \"output_size\": 3,\n",
    "        \"input_size\": (42 + 12) * eval_params['window_size'], \n",
    "        \"hidden_size\": (42 + 12) * eval_params['window_size'], \n",
    "    }"
   ]
  },
  {
   "cell_type": "code",
   "execution_count": 3,
   "metadata": {},
   "outputs": [
    {
     "ename": "RuntimeError",
     "evalue": "Error(s) in loading state_dict for GPT2:\n\tsize mismatch for transformer.h.0.ln_1.weight: copying a param with shape torch.Size([2700]) from checkpoint, the shape in current model is torch.Size([540]).\n\tsize mismatch for transformer.h.0.ln_1.bias: copying a param with shape torch.Size([2700]) from checkpoint, the shape in current model is torch.Size([540]).\n\tsize mismatch for transformer.h.0.attn.c_attn.weight: copying a param with shape torch.Size([2700, 8100]) from checkpoint, the shape in current model is torch.Size([540, 1620]).\n\tsize mismatch for transformer.h.0.attn.c_attn.bias: copying a param with shape torch.Size([8100]) from checkpoint, the shape in current model is torch.Size([1620]).\n\tsize mismatch for transformer.h.0.attn.c_proj.weight: copying a param with shape torch.Size([2700, 2700]) from checkpoint, the shape in current model is torch.Size([540, 540]).\n\tsize mismatch for transformer.h.0.attn.c_proj.bias: copying a param with shape torch.Size([2700]) from checkpoint, the shape in current model is torch.Size([540]).\n\tsize mismatch for transformer.h.0.ln_2.weight: copying a param with shape torch.Size([2700]) from checkpoint, the shape in current model is torch.Size([540]).\n\tsize mismatch for transformer.h.0.ln_2.bias: copying a param with shape torch.Size([2700]) from checkpoint, the shape in current model is torch.Size([540]).\n\tsize mismatch for transformer.h.0.mlp.c_fc.weight: copying a param with shape torch.Size([2700, 10800]) from checkpoint, the shape in current model is torch.Size([540, 2160]).\n\tsize mismatch for transformer.h.0.mlp.c_fc.bias: copying a param with shape torch.Size([10800]) from checkpoint, the shape in current model is torch.Size([2160]).\n\tsize mismatch for transformer.h.0.mlp.c_proj.weight: copying a param with shape torch.Size([10800, 2700]) from checkpoint, the shape in current model is torch.Size([2160, 540]).\n\tsize mismatch for transformer.h.0.mlp.c_proj.bias: copying a param with shape torch.Size([2700]) from checkpoint, the shape in current model is torch.Size([540]).\n\tsize mismatch for transformer.h.1.ln_1.weight: copying a param with shape torch.Size([2700]) from checkpoint, the shape in current model is torch.Size([540]).\n\tsize mismatch for transformer.h.1.ln_1.bias: copying a param with shape torch.Size([2700]) from checkpoint, the shape in current model is torch.Size([540]).\n\tsize mismatch for transformer.h.1.attn.c_attn.weight: copying a param with shape torch.Size([2700, 8100]) from checkpoint, the shape in current model is torch.Size([540, 1620]).\n\tsize mismatch for transformer.h.1.attn.c_attn.bias: copying a param with shape torch.Size([8100]) from checkpoint, the shape in current model is torch.Size([1620]).\n\tsize mismatch for transformer.h.1.attn.c_proj.weight: copying a param with shape torch.Size([2700, 2700]) from checkpoint, the shape in current model is torch.Size([540, 540]).\n\tsize mismatch for transformer.h.1.attn.c_proj.bias: copying a param with shape torch.Size([2700]) from checkpoint, the shape in current model is torch.Size([540]).\n\tsize mismatch for transformer.h.1.ln_2.weight: copying a param with shape torch.Size([2700]) from checkpoint, the shape in current model is torch.Size([540]).\n\tsize mismatch for transformer.h.1.ln_2.bias: copying a param with shape torch.Size([2700]) from checkpoint, the shape in current model is torch.Size([540]).\n\tsize mismatch for transformer.h.1.mlp.c_fc.weight: copying a param with shape torch.Size([2700, 10800]) from checkpoint, the shape in current model is torch.Size([540, 2160]).\n\tsize mismatch for transformer.h.1.mlp.c_fc.bias: copying a param with shape torch.Size([10800]) from checkpoint, the shape in current model is torch.Size([2160]).\n\tsize mismatch for transformer.h.1.mlp.c_proj.weight: copying a param with shape torch.Size([10800, 2700]) from checkpoint, the shape in current model is torch.Size([2160, 540]).\n\tsize mismatch for transformer.h.1.mlp.c_proj.bias: copying a param with shape torch.Size([2700]) from checkpoint, the shape in current model is torch.Size([540]).\n\tsize mismatch for transformer.ln_f.weight: copying a param with shape torch.Size([2700]) from checkpoint, the shape in current model is torch.Size([540]).\n\tsize mismatch for transformer.ln_f.bias: copying a param with shape torch.Size([2700]) from checkpoint, the shape in current model is torch.Size([540]).\n\tsize mismatch for obs_decoder.weight: copying a param with shape torch.Size([3, 2700]) from checkpoint, the shape in current model is torch.Size([3, 540]).",
     "output_type": "error",
     "traceback": [
      "\u001b[0;31m---------------------------------------------------------------------------\u001b[0m",
      "\u001b[0;31mRuntimeError\u001b[0m                              Traceback (most recent call last)",
      "Cell \u001b[0;32mIn[3], line 5\u001b[0m\n\u001b[1;32m      3\u001b[0m optimizer \u001b[38;5;241m=\u001b[39m torch\u001b[38;5;241m.\u001b[39moptim\u001b[38;5;241m.\u001b[39mAdam(model\u001b[38;5;241m.\u001b[39mparameters())\n\u001b[1;32m      4\u001b[0m checkpoint \u001b[38;5;241m=\u001b[39m torch\u001b[38;5;241m.\u001b[39mload(eval_params[\u001b[38;5;124m'\u001b[39m\u001b[38;5;124mcheckpoint_path\u001b[39m\u001b[38;5;124m'\u001b[39m], map_location\u001b[38;5;241m=\u001b[39mdevice)\n\u001b[0;32m----> 5\u001b[0m \u001b[43mmodel\u001b[49m\u001b[38;5;241;43m.\u001b[39;49m\u001b[43mload_state_dict\u001b[49m\u001b[43m(\u001b[49m\u001b[43mcheckpoint\u001b[49m\u001b[43m[\u001b[49m\u001b[38;5;124;43m'\u001b[39;49m\u001b[38;5;124;43mstate_dict\u001b[39;49m\u001b[38;5;124;43m'\u001b[39;49m\u001b[43m]\u001b[49m\u001b[43m)\u001b[49m\n",
      "File \u001b[0;32m~/anaconda3/envs/ZGMF-X10A/lib/python3.8/site-packages/torch/nn/modules/module.py:2041\u001b[0m, in \u001b[0;36mModule.load_state_dict\u001b[0;34m(self, state_dict, strict)\u001b[0m\n\u001b[1;32m   2036\u001b[0m         error_msgs\u001b[38;5;241m.\u001b[39minsert(\n\u001b[1;32m   2037\u001b[0m             \u001b[38;5;241m0\u001b[39m, \u001b[38;5;124m'\u001b[39m\u001b[38;5;124mMissing key(s) in state_dict: \u001b[39m\u001b[38;5;132;01m{}\u001b[39;00m\u001b[38;5;124m. \u001b[39m\u001b[38;5;124m'\u001b[39m\u001b[38;5;241m.\u001b[39mformat(\n\u001b[1;32m   2038\u001b[0m                 \u001b[38;5;124m'\u001b[39m\u001b[38;5;124m, \u001b[39m\u001b[38;5;124m'\u001b[39m\u001b[38;5;241m.\u001b[39mjoin(\u001b[38;5;124m'\u001b[39m\u001b[38;5;124m\"\u001b[39m\u001b[38;5;132;01m{}\u001b[39;00m\u001b[38;5;124m\"\u001b[39m\u001b[38;5;124m'\u001b[39m\u001b[38;5;241m.\u001b[39mformat(k) \u001b[38;5;28;01mfor\u001b[39;00m k \u001b[38;5;129;01min\u001b[39;00m missing_keys)))\n\u001b[1;32m   2040\u001b[0m \u001b[38;5;28;01mif\u001b[39;00m \u001b[38;5;28mlen\u001b[39m(error_msgs) \u001b[38;5;241m>\u001b[39m \u001b[38;5;241m0\u001b[39m:\n\u001b[0;32m-> 2041\u001b[0m     \u001b[38;5;28;01mraise\u001b[39;00m \u001b[38;5;167;01mRuntimeError\u001b[39;00m(\u001b[38;5;124m'\u001b[39m\u001b[38;5;124mError(s) in loading state_dict for \u001b[39m\u001b[38;5;132;01m{}\u001b[39;00m\u001b[38;5;124m:\u001b[39m\u001b[38;5;130;01m\\n\u001b[39;00m\u001b[38;5;130;01m\\t\u001b[39;00m\u001b[38;5;132;01m{}\u001b[39;00m\u001b[38;5;124m'\u001b[39m\u001b[38;5;241m.\u001b[39mformat(\n\u001b[1;32m   2042\u001b[0m                        \u001b[38;5;28mself\u001b[39m\u001b[38;5;241m.\u001b[39m\u001b[38;5;18m__class__\u001b[39m\u001b[38;5;241m.\u001b[39m\u001b[38;5;18m__name__\u001b[39m, \u001b[38;5;124m\"\u001b[39m\u001b[38;5;130;01m\\n\u001b[39;00m\u001b[38;5;130;01m\\t\u001b[39;00m\u001b[38;5;124m\"\u001b[39m\u001b[38;5;241m.\u001b[39mjoin(error_msgs)))\n\u001b[1;32m   2043\u001b[0m \u001b[38;5;28;01mreturn\u001b[39;00m _IncompatibleKeys(missing_keys, unexpected_keys)\n",
      "\u001b[0;31mRuntimeError\u001b[0m: Error(s) in loading state_dict for GPT2:\n\tsize mismatch for transformer.h.0.ln_1.weight: copying a param with shape torch.Size([2700]) from checkpoint, the shape in current model is torch.Size([540]).\n\tsize mismatch for transformer.h.0.ln_1.bias: copying a param with shape torch.Size([2700]) from checkpoint, the shape in current model is torch.Size([540]).\n\tsize mismatch for transformer.h.0.attn.c_attn.weight: copying a param with shape torch.Size([2700, 8100]) from checkpoint, the shape in current model is torch.Size([540, 1620]).\n\tsize mismatch for transformer.h.0.attn.c_attn.bias: copying a param with shape torch.Size([8100]) from checkpoint, the shape in current model is torch.Size([1620]).\n\tsize mismatch for transformer.h.0.attn.c_proj.weight: copying a param with shape torch.Size([2700, 2700]) from checkpoint, the shape in current model is torch.Size([540, 540]).\n\tsize mismatch for transformer.h.0.attn.c_proj.bias: copying a param with shape torch.Size([2700]) from checkpoint, the shape in current model is torch.Size([540]).\n\tsize mismatch for transformer.h.0.ln_2.weight: copying a param with shape torch.Size([2700]) from checkpoint, the shape in current model is torch.Size([540]).\n\tsize mismatch for transformer.h.0.ln_2.bias: copying a param with shape torch.Size([2700]) from checkpoint, the shape in current model is torch.Size([540]).\n\tsize mismatch for transformer.h.0.mlp.c_fc.weight: copying a param with shape torch.Size([2700, 10800]) from checkpoint, the shape in current model is torch.Size([540, 2160]).\n\tsize mismatch for transformer.h.0.mlp.c_fc.bias: copying a param with shape torch.Size([10800]) from checkpoint, the shape in current model is torch.Size([2160]).\n\tsize mismatch for transformer.h.0.mlp.c_proj.weight: copying a param with shape torch.Size([10800, 2700]) from checkpoint, the shape in current model is torch.Size([2160, 540]).\n\tsize mismatch for transformer.h.0.mlp.c_proj.bias: copying a param with shape torch.Size([2700]) from checkpoint, the shape in current model is torch.Size([540]).\n\tsize mismatch for transformer.h.1.ln_1.weight: copying a param with shape torch.Size([2700]) from checkpoint, the shape in current model is torch.Size([540]).\n\tsize mismatch for transformer.h.1.ln_1.bias: copying a param with shape torch.Size([2700]) from checkpoint, the shape in current model is torch.Size([540]).\n\tsize mismatch for transformer.h.1.attn.c_attn.weight: copying a param with shape torch.Size([2700, 8100]) from checkpoint, the shape in current model is torch.Size([540, 1620]).\n\tsize mismatch for transformer.h.1.attn.c_attn.bias: copying a param with shape torch.Size([8100]) from checkpoint, the shape in current model is torch.Size([1620]).\n\tsize mismatch for transformer.h.1.attn.c_proj.weight: copying a param with shape torch.Size([2700, 2700]) from checkpoint, the shape in current model is torch.Size([540, 540]).\n\tsize mismatch for transformer.h.1.attn.c_proj.bias: copying a param with shape torch.Size([2700]) from checkpoint, the shape in current model is torch.Size([540]).\n\tsize mismatch for transformer.h.1.ln_2.weight: copying a param with shape torch.Size([2700]) from checkpoint, the shape in current model is torch.Size([540]).\n\tsize mismatch for transformer.h.1.ln_2.bias: copying a param with shape torch.Size([2700]) from checkpoint, the shape in current model is torch.Size([540]).\n\tsize mismatch for transformer.h.1.mlp.c_fc.weight: copying a param with shape torch.Size([2700, 10800]) from checkpoint, the shape in current model is torch.Size([540, 2160]).\n\tsize mismatch for transformer.h.1.mlp.c_fc.bias: copying a param with shape torch.Size([10800]) from checkpoint, the shape in current model is torch.Size([2160]).\n\tsize mismatch for transformer.h.1.mlp.c_proj.weight: copying a param with shape torch.Size([10800, 2700]) from checkpoint, the shape in current model is torch.Size([2160, 540]).\n\tsize mismatch for transformer.h.1.mlp.c_proj.bias: copying a param with shape torch.Size([2700]) from checkpoint, the shape in current model is torch.Size([540]).\n\tsize mismatch for transformer.ln_f.weight: copying a param with shape torch.Size([2700]) from checkpoint, the shape in current model is torch.Size([540]).\n\tsize mismatch for transformer.ln_f.bias: copying a param with shape torch.Size([2700]) from checkpoint, the shape in current model is torch.Size([540]).\n\tsize mismatch for obs_decoder.weight: copying a param with shape torch.Size([3, 2700]) from checkpoint, the shape in current model is torch.Size([3, 540])."
     ]
    }
   ],
   "source": [
    "device = torch.device(\"cuda\" if torch.cuda.is_available() else \"cpu\")\n",
    "model = GPT2(**model_params).to(device)\n",
    "optimizer = torch.optim.Adam(model.parameters())\n",
    "checkpoint = torch.load(eval_params['checkpoint_path'], map_location=device)\n",
    "model.load_state_dict(checkpoint['state_dict'])"
   ]
  },
  {
   "cell_type": "code",
   "execution_count": 4,
   "metadata": {},
   "outputs": [
    {
     "name": "stdout",
     "output_type": "stream",
     "text": [
      "dict_keys(['obs', 'act', 'physprops'])\n"
     ]
    }
   ],
   "source": [
    "import pickle as pkl \n",
    "import os\n",
    "file_path = os.path.join(eval_params[\"dataset_folder_path\"], \"traj_0000.pkl\")\n",
    "with open(file_path, \"rb\") as file:\n",
    "    traj = pkl.load(file)\n",
    "\n",
    "print(traj.keys())"
   ]
  },
  {
   "cell_type": "code",
   "execution_count": 5,
   "metadata": {},
   "outputs": [
    {
     "name": "stdout",
     "output_type": "stream",
     "text": [
      "torch.Size([540])\n"
     ]
    }
   ],
   "source": [
    "obs_history = np.array(traj['obs'][:10]).flatten()\n",
    "action_history = np.array(traj['act'][:10]).flatten()\n",
    "tmp_history = np.concatenate([obs_history, action_history])\n",
    "history_input = torch.tensor(tmp_history, device = device, dtype=torch.float)\n",
    "print(history_input.shape)"
   ]
  },
  {
   "cell_type": "code",
   "execution_count": 6,
   "metadata": {},
   "outputs": [
    {
     "name": "stdout",
     "output_type": "stream",
     "text": [
      "torch.Size([3])\n"
     ]
    }
   ],
   "source": [
    "model.eval()\n",
    "estimation, _ = model(history_input, None)"
   ]
  },
  {
   "cell_type": "code",
   "execution_count": 7,
   "metadata": {},
   "outputs": [
    {
     "data": {
      "text/plain": [
       "torch.Size([540])"
      ]
     },
     "execution_count": 7,
     "metadata": {},
     "output_type": "execute_result"
    }
   ],
   "source": [
    "history_input.shape"
   ]
  },
  {
   "cell_type": "code",
   "execution_count": 8,
   "metadata": {},
   "outputs": [
    {
     "data": {
      "text/plain": [
       "torch.Size([3])"
      ]
     },
     "execution_count": 8,
     "metadata": {},
     "output_type": "execute_result"
    }
   ],
   "source": [
    "estimation.shape"
   ]
  },
  {
   "cell_type": "code",
   "execution_count": null,
   "metadata": {},
   "outputs": [],
   "source": []
  }
 ],
 "metadata": {
  "kernelspec": {
   "display_name": "Python 3",
   "language": "python",
   "name": "python3"
  },
  "language_info": {
   "codemirror_mode": {
    "name": "ipython",
    "version": 3
   },
   "file_extension": ".py",
   "mimetype": "text/x-python",
   "name": "python",
   "nbconvert_exporter": "python",
   "pygments_lexer": "ipython3",
   "version": "3.8.18"
  }
 },
 "nbformat": 4,
 "nbformat_minor": 2
}
